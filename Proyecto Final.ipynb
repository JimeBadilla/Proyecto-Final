{
 "cells": [
  {
   "cell_type": "markdown",
   "id": "dfc92cbd",
   "metadata": {},
   "source": [
    "<img SRC=\"planet.png\"/>\n",
    "<center><h1 Style=\"color:#8B008B\">Analisis de Datos</h1></center>\n",
    "<center><h3>Universidad Castro Carazo</h3></center>\n",
    "<center><h6>2022</h6></center>\n",
    "</br>\n",
    "</br>\n",
    "<p Style=\"text-aling:justify\"> El calentamiento global es una realidad que preocupa a los ciudadanos del mundo, y ocupa a los investigadores en busca de soluciones para frenar el cambio climático. Gracias a las innovaciones tecnológicas, existe la esperanza de detener el acelerado deterioro de nuestro planeta tierra.\n",
    "\n",
    "Este notebook contiene datos relacionados al cambio climatico como parte de mi proyecto final del curso 2022. Este analisis de  datos se basa en el Total de generación eléctrica en Costa Rica por tipo de fuente durante los años 2010-2019.\n",
    "</p>\n",
    "</br>\n",
    "<a href=\"http://sinamecc.opendata.junar.com/visualizations/34799/total-generacion-electrica-en-costa-rica-por-tipo-de-fuente-tj-2010-2019/\"> Fuente de informacion de datos</a>"
   ]
  },
  {
   "cell_type": "code",
   "execution_count": 1,
   "id": "f07d1033",
   "metadata": {},
   "outputs": [],
   "source": [
    "import pandas as pd               \n",
    "import numpy as np                \n",
    "import matplotlib.pyplot as ptl   "
   ]
  },
  {
   "cell_type": "code",
   "execution_count": 2,
   "id": "13b6c844",
   "metadata": {},
   "outputs": [],
   "source": [
    "cols= [\"Año\", \"Hidro\", \"Geotermica\", \"Eolica\", \"Biomasa\", \"Solar\",\n",
    "\"Termica\", \"Total\"]\n",
    "\n",
    "dfBalance1= pd.read_csv(\"Balance Nacional de Energía.csv\", names=cols)"
   ]
  },
  {
   "cell_type": "code",
   "execution_count": 3,
   "id": "d78de24c",
   "metadata": {},
   "outputs": [
    {
     "data": {
      "text/plain": [
       "(11, 8)"
      ]
     },
     "execution_count": 3,
     "metadata": {},
     "output_type": "execute_result"
    }
   ],
   "source": [
    "dfBalance1.shape"
   ]
  },
  {
   "cell_type": "code",
   "execution_count": 4,
   "id": "e0a71176",
   "metadata": {},
   "outputs": [
    {
     "data": {
      "text/html": [
       "<div>\n",
       "<style scoped>\n",
       "    .dataframe tbody tr th:only-of-type {\n",
       "        vertical-align: middle;\n",
       "    }\n",
       "\n",
       "    .dataframe tbody tr th {\n",
       "        vertical-align: top;\n",
       "    }\n",
       "\n",
       "    .dataframe thead th {\n",
       "        text-align: right;\n",
       "    }\n",
       "</style>\n",
       "<table border=\"1\" class=\"dataframe\">\n",
       "  <thead>\n",
       "    <tr style=\"text-align: right;\">\n",
       "      <th></th>\n",
       "      <th>Año</th>\n",
       "      <th>Hidro</th>\n",
       "      <th>Geotermica</th>\n",
       "      <th>Eolica</th>\n",
       "      <th>Biomasa</th>\n",
       "      <th>Solar</th>\n",
       "      <th>Termica</th>\n",
       "      <th>Total</th>\n",
       "    </tr>\n",
       "  </thead>\n",
       "  <tbody>\n",
       "    <tr>\n",
       "      <th>0</th>\n",
       "      <td>2010</td>\n",
       "      <td>26144.25</td>\n",
       "      <td>4233.89</td>\n",
       "      <td>1291.23</td>\n",
       "      <td>521.41</td>\n",
       "      <td>0.93</td>\n",
       "      <td>2308.23</td>\n",
       "      <td>34499.95</td>\n",
       "    </tr>\n",
       "    <tr>\n",
       "      <th>1</th>\n",
       "      <td>2011</td>\n",
       "      <td>25684.64</td>\n",
       "      <td>4606.35</td>\n",
       "      <td>1492.11</td>\n",
       "      <td>500.37</td>\n",
       "      <td>1.73</td>\n",
       "      <td>3108.03</td>\n",
       "      <td>35393.24</td>\n",
       "    </tr>\n",
       "    <tr>\n",
       "      <th>2</th>\n",
       "      <td>2012</td>\n",
       "      <td>26039.52</td>\n",
       "      <td>5049.18</td>\n",
       "      <td>1902.18</td>\n",
       "      <td>643.04</td>\n",
       "      <td>4.67</td>\n",
       "      <td>2989.02</td>\n",
       "      <td>36627.60</td>\n",
       "    </tr>\n",
       "    <tr>\n",
       "      <th>3</th>\n",
       "      <td>2013</td>\n",
       "      <td>24663.76</td>\n",
       "      <td>5460.25</td>\n",
       "      <td>1744.45</td>\n",
       "      <td>659.94</td>\n",
       "      <td>8.80</td>\n",
       "      <td>4305.59</td>\n",
       "      <td>36842.78</td>\n",
       "    </tr>\n",
       "    <tr>\n",
       "      <th>4</th>\n",
       "      <td>2014</td>\n",
       "      <td>24181.75</td>\n",
       "      <td>5537.29</td>\n",
       "      <td>2645.11</td>\n",
       "      <td>650.24</td>\n",
       "      <td>8.88</td>\n",
       "      <td>3755.53</td>\n",
       "      <td>36778.79</td>\n",
       "    </tr>\n",
       "    <tr>\n",
       "      <th>5</th>\n",
       "      <td>2015</td>\n",
       "      <td>29039.71</td>\n",
       "      <td>4952.26</td>\n",
       "      <td>3886.23</td>\n",
       "      <td>645.38</td>\n",
       "      <td>9.12</td>\n",
       "      <td>389.23</td>\n",
       "      <td>38921.94</td>\n",
       "    </tr>\n",
       "    <tr>\n",
       "      <th>6</th>\n",
       "      <td>2016</td>\n",
       "      <td>28893.40</td>\n",
       "      <td>4822.25</td>\n",
       "      <td>4130.25</td>\n",
       "      <td>617.42</td>\n",
       "      <td>8.69</td>\n",
       "      <td>694.89</td>\n",
       "      <td>39166.91</td>\n",
       "    </tr>\n",
       "    <tr>\n",
       "      <th>7</th>\n",
       "      <td>2017</td>\n",
       "      <td>31237.06</td>\n",
       "      <td>4024.20</td>\n",
       "      <td>4635.64</td>\n",
       "      <td>664.24</td>\n",
       "      <td>16.03</td>\n",
       "      <td>134.70</td>\n",
       "      <td>40711.86</td>\n",
       "    </tr>\n",
       "  </tbody>\n",
       "</table>\n",
       "</div>"
      ],
      "text/plain": [
       "    Año     Hidro  Geotermica   Eolica  Biomasa  Solar  Termica     Total\n",
       "0  2010  26144.25     4233.89  1291.23   521.41   0.93  2308.23  34499.95\n",
       "1  2011  25684.64     4606.35  1492.11   500.37   1.73  3108.03  35393.24\n",
       "2  2012  26039.52     5049.18  1902.18   643.04   4.67  2989.02  36627.60\n",
       "3  2013  24663.76     5460.25  1744.45   659.94   8.80  4305.59  36842.78\n",
       "4  2014  24181.75     5537.29  2645.11   650.24   8.88  3755.53  36778.79\n",
       "5  2015  29039.71     4952.26  3886.23   645.38   9.12   389.23  38921.94\n",
       "6  2016  28893.40     4822.25  4130.25   617.42   8.69   694.89  39166.91\n",
       "7  2017  31237.06     4024.20  4635.64   664.24  16.03   134.70  40711.86"
      ]
     },
     "execution_count": 4,
     "metadata": {},
     "output_type": "execute_result"
    }
   ],
   "source": [
    "dfBalance1.head(8)"
   ]
  },
  {
   "cell_type": "code",
   "execution_count": 5,
   "id": "5cdb23eb",
   "metadata": {},
   "outputs": [
    {
     "data": {
      "text/plain": [
       "Index(['Año', 'Hidro', 'Geotermica', 'Eolica', 'Biomasa', 'Solar', 'Termica',\n",
       "       'Total'],\n",
       "      dtype='object')"
      ]
     },
     "execution_count": 5,
     "metadata": {},
     "output_type": "execute_result"
    }
   ],
   "source": [
    "dfBalance1.columns"
   ]
  },
  {
   "cell_type": "code",
   "execution_count": 6,
   "id": "919da1f5",
   "metadata": {},
   "outputs": [
    {
     "data": {
      "text/plain": [
       "<bound method DataFrame.info of       Año      Hidro  Geotermica    Eolica  Biomasa   Solar   Termica  \\\n",
       "0    2010   26144.25     4233.89   1291.23   521.41    0.93   2308.23   \n",
       "1    2011   25684.64     4606.35   1492.11   500.37    1.73   3108.03   \n",
       "2    2012   26039.52     5049.18   1902.18   643.04    4.67   2989.02   \n",
       "3    2013   24663.76     5460.25   1744.45   659.94    8.80   4305.59   \n",
       "4    2014   24181.75     5537.29   2645.11   650.24    8.88   3755.53   \n",
       "5    2015   29039.71     4952.26   3886.23   645.38    9.12    389.23   \n",
       "6    2016   28893.40     4822.25   4130.25   617.42    8.69    694.89   \n",
       "7    2017   31237.06     4024.20   4635.64   664.24   16.03    134.70   \n",
       "8    2018   30034.43     3486.85   6475.95   625.19  201.76    570.78   \n",
       "9    2019   28175.98     5445.27   6466.84   608.57  215.35    344.29   \n",
       "10  Total  274094.50    47617.79  34669.99  6135.80  475.96  18600.29   \n",
       "\n",
       "        Total  \n",
       "0    34499.95  \n",
       "1    35393.24  \n",
       "2    36627.60  \n",
       "3    36842.78  \n",
       "4    36778.79  \n",
       "5    38921.94  \n",
       "6    39166.91  \n",
       "7    40711.86  \n",
       "8    41394.96  \n",
       "9    41256.29  \n",
       "10  381594.32  >"
      ]
     },
     "execution_count": 6,
     "metadata": {},
     "output_type": "execute_result"
    }
   ],
   "source": [
    "dfBalance1.info"
   ]
  },
  {
   "cell_type": "code",
   "execution_count": 7,
   "id": "9bc5a3b5",
   "metadata": {},
   "outputs": [
    {
     "data": {
      "text/html": [
       "<div>\n",
       "<style scoped>\n",
       "    .dataframe tbody tr th:only-of-type {\n",
       "        vertical-align: middle;\n",
       "    }\n",
       "\n",
       "    .dataframe tbody tr th {\n",
       "        vertical-align: top;\n",
       "    }\n",
       "\n",
       "    .dataframe thead th {\n",
       "        text-align: right;\n",
       "    }\n",
       "</style>\n",
       "<table border=\"1\" class=\"dataframe\">\n",
       "  <thead>\n",
       "    <tr style=\"text-align: right;\">\n",
       "      <th></th>\n",
       "      <th>Año</th>\n",
       "      <th>Hidro</th>\n",
       "      <th>Geotermica</th>\n",
       "      <th>Eolica</th>\n",
       "      <th>Biomasa</th>\n",
       "      <th>Solar</th>\n",
       "      <th>Termica</th>\n",
       "      <th>Total</th>\n",
       "    </tr>\n",
       "  </thead>\n",
       "  <tbody>\n",
       "    <tr>\n",
       "      <th>0</th>\n",
       "      <td>2010</td>\n",
       "      <td>26144.25</td>\n",
       "      <td>4233.89</td>\n",
       "      <td>1291.23</td>\n",
       "      <td>521.41</td>\n",
       "      <td>0.93</td>\n",
       "      <td>2308.23</td>\n",
       "      <td>34499.95</td>\n",
       "    </tr>\n",
       "    <tr>\n",
       "      <th>1</th>\n",
       "      <td>2011</td>\n",
       "      <td>25684.64</td>\n",
       "      <td>4606.35</td>\n",
       "      <td>1492.11</td>\n",
       "      <td>500.37</td>\n",
       "      <td>1.73</td>\n",
       "      <td>3108.03</td>\n",
       "      <td>35393.24</td>\n",
       "    </tr>\n",
       "    <tr>\n",
       "      <th>2</th>\n",
       "      <td>2012</td>\n",
       "      <td>26039.52</td>\n",
       "      <td>5049.18</td>\n",
       "      <td>1902.18</td>\n",
       "      <td>643.04</td>\n",
       "      <td>4.67</td>\n",
       "      <td>2989.02</td>\n",
       "      <td>36627.60</td>\n",
       "    </tr>\n",
       "    <tr>\n",
       "      <th>3</th>\n",
       "      <td>2013</td>\n",
       "      <td>24663.76</td>\n",
       "      <td>5460.25</td>\n",
       "      <td>1744.45</td>\n",
       "      <td>659.94</td>\n",
       "      <td>8.80</td>\n",
       "      <td>4305.59</td>\n",
       "      <td>36842.78</td>\n",
       "    </tr>\n",
       "    <tr>\n",
       "      <th>4</th>\n",
       "      <td>2014</td>\n",
       "      <td>24181.75</td>\n",
       "      <td>5537.29</td>\n",
       "      <td>2645.11</td>\n",
       "      <td>650.24</td>\n",
       "      <td>8.88</td>\n",
       "      <td>3755.53</td>\n",
       "      <td>36778.79</td>\n",
       "    </tr>\n",
       "  </tbody>\n",
       "</table>\n",
       "</div>"
      ],
      "text/plain": [
       "    Año     Hidro  Geotermica   Eolica  Biomasa  Solar  Termica     Total\n",
       "0  2010  26144.25     4233.89  1291.23   521.41   0.93  2308.23  34499.95\n",
       "1  2011  25684.64     4606.35  1492.11   500.37   1.73  3108.03  35393.24\n",
       "2  2012  26039.52     5049.18  1902.18   643.04   4.67  2989.02  36627.60\n",
       "3  2013  24663.76     5460.25  1744.45   659.94   8.80  4305.59  36842.78\n",
       "4  2014  24181.75     5537.29  2645.11   650.24   8.88  3755.53  36778.79"
      ]
     },
     "execution_count": 7,
     "metadata": {},
     "output_type": "execute_result"
    }
   ],
   "source": [
    "dfBalance1.head(5)"
   ]
  },
  {
   "cell_type": "code",
   "execution_count": 8,
   "id": "d9347c74",
   "metadata": {},
   "outputs": [
    {
     "data": {
      "text/plain": [
       "Año            object\n",
       "Hidro         float64\n",
       "Geotermica    float64\n",
       "Eolica        float64\n",
       "Biomasa       float64\n",
       "Solar         float64\n",
       "Termica       float64\n",
       "Total         float64\n",
       "dtype: object"
      ]
     },
     "execution_count": 8,
     "metadata": {},
     "output_type": "execute_result"
    }
   ],
   "source": [
    "dfBalance1.dtypes"
   ]
  },
  {
   "cell_type": "markdown",
   "id": "6a4527e4",
   "metadata": {},
   "source": [
    "<h3 Style=\"color:#87CEFA\"> Normalizacion de Datos </h3>"
   ]
  },
  {
   "cell_type": "code",
   "execution_count": 9,
   "id": "da896304",
   "metadata": {},
   "outputs": [
    {
     "data": {
      "text/plain": [
       "<bound method DataFrame.info of       Año      Hidro  Geotermica    Eolica  Biomasa   Solar   Termica  \\\n",
       "0    2010   26144.25     4233.89   1291.23   521.41    0.93   2308.23   \n",
       "1    2011   25684.64     4606.35   1492.11   500.37    1.73   3108.03   \n",
       "2    2012   26039.52     5049.18   1902.18   643.04    4.67   2989.02   \n",
       "3    2013   24663.76     5460.25   1744.45   659.94    8.80   4305.59   \n",
       "4    2014   24181.75     5537.29   2645.11   650.24    8.88   3755.53   \n",
       "5    2015   29039.71     4952.26   3886.23   645.38    9.12    389.23   \n",
       "6    2016   28893.40     4822.25   4130.25   617.42    8.69    694.89   \n",
       "7    2017   31237.06     4024.20   4635.64   664.24   16.03    134.70   \n",
       "8    2018   30034.43     3486.85   6475.95   625.19  201.76    570.78   \n",
       "9    2019   28175.98     5445.27   6466.84   608.57  215.35    344.29   \n",
       "10  Total  274094.50    47617.79  34669.99  6135.80  475.96  18600.29   \n",
       "\n",
       "        Total  \n",
       "0    34499.95  \n",
       "1    35393.24  \n",
       "2    36627.60  \n",
       "3    36842.78  \n",
       "4    36778.79  \n",
       "5    38921.94  \n",
       "6    39166.91  \n",
       "7    40711.86  \n",
       "8    41394.96  \n",
       "9    41256.29  \n",
       "10  381594.32  >"
      ]
     },
     "execution_count": 9,
     "metadata": {},
     "output_type": "execute_result"
    }
   ],
   "source": [
    "dfBalance1.info\n",
    "\n"
   ]
  },
  {
   "cell_type": "code",
   "execution_count": 10,
   "id": "6f725874",
   "metadata": {},
   "outputs": [
    {
     "data": {
      "text/html": [
       "<div>\n",
       "<style scoped>\n",
       "    .dataframe tbody tr th:only-of-type {\n",
       "        vertical-align: middle;\n",
       "    }\n",
       "\n",
       "    .dataframe tbody tr th {\n",
       "        vertical-align: top;\n",
       "    }\n",
       "\n",
       "    .dataframe thead th {\n",
       "        text-align: right;\n",
       "    }\n",
       "</style>\n",
       "<table border=\"1\" class=\"dataframe\">\n",
       "  <thead>\n",
       "    <tr style=\"text-align: right;\">\n",
       "      <th></th>\n",
       "      <th>Solar</th>\n",
       "      <th>Hidro</th>\n",
       "      <th>Geotermica</th>\n",
       "    </tr>\n",
       "  </thead>\n",
       "  <tbody>\n",
       "    <tr>\n",
       "      <th>0</th>\n",
       "      <td>0.93</td>\n",
       "      <td>26144.25</td>\n",
       "      <td>4233.89</td>\n",
       "    </tr>\n",
       "    <tr>\n",
       "      <th>1</th>\n",
       "      <td>1.73</td>\n",
       "      <td>25684.64</td>\n",
       "      <td>4606.35</td>\n",
       "    </tr>\n",
       "    <tr>\n",
       "      <th>2</th>\n",
       "      <td>4.67</td>\n",
       "      <td>26039.52</td>\n",
       "      <td>5049.18</td>\n",
       "    </tr>\n",
       "    <tr>\n",
       "      <th>3</th>\n",
       "      <td>8.80</td>\n",
       "      <td>24663.76</td>\n",
       "      <td>5460.25</td>\n",
       "    </tr>\n",
       "    <tr>\n",
       "      <th>4</th>\n",
       "      <td>8.88</td>\n",
       "      <td>24181.75</td>\n",
       "      <td>5537.29</td>\n",
       "    </tr>\n",
       "  </tbody>\n",
       "</table>\n",
       "</div>"
      ],
      "text/plain": [
       "   Solar     Hidro  Geotermica\n",
       "0   0.93  26144.25     4233.89\n",
       "1   1.73  25684.64     4606.35\n",
       "2   4.67  26039.52     5049.18\n",
       "3   8.80  24663.76     5460.25\n",
       "4   8.88  24181.75     5537.29"
      ]
     },
     "execution_count": 10,
     "metadata": {},
     "output_type": "execute_result"
    }
   ],
   "source": [
    "dfTemp = dfBalance1[['Solar', 'Hidro', 'Geotermica']] \n",
    "dfTemp.head(5)"
   ]
  },
  {
   "cell_type": "code",
   "execution_count": 11,
   "id": "674ff570",
   "metadata": {},
   "outputs": [],
   "source": [
    "dfBalance1['Solar'] = dfBalance1['Solar']/dfBalance1['Solar'].max() \n",
    "dfBalance1['Termica'] = dfBalance1['Termica']/dfBalance1['Termica'].max() \n",
    "dfBalance1['Eolica'] = dfBalance1['Eolica']/dfBalance1['Eolica'].max() "
   ]
  },
  {
   "cell_type": "markdown",
   "id": "c31fa956",
   "metadata": {},
   "source": [
    "<h3 Style=\"color:#FFA07A\">Bining </h3>"
   ]
  },
  {
   "cell_type": "code",
   "execution_count": 12,
   "id": "ff214bf3",
   "metadata": {
    "scrolled": true
   },
   "outputs": [
    {
     "name": "stdout",
     "output_type": "stream",
     "text": [
      "<class 'pandas.core.frame.DataFrame'>\n",
      "RangeIndex: 11 entries, 0 to 10\n",
      "Data columns (total 8 columns):\n",
      " #   Column      Non-Null Count  Dtype  \n",
      "---  ------      --------------  -----  \n",
      " 0   Año         11 non-null     object \n",
      " 1   Hidro       11 non-null     float64\n",
      " 2   Geotermica  11 non-null     float64\n",
      " 3   Eolica      11 non-null     float64\n",
      " 4   Biomasa     11 non-null     float64\n",
      " 5   Solar       11 non-null     float64\n",
      " 6   Termica     11 non-null     float64\n",
      " 7   Total       11 non-null     int32  \n",
      "dtypes: float64(6), int32(1), object(1)\n",
      "memory usage: 788.0+ bytes\n"
     ]
    }
   ],
   "source": [
    "dfBalance1[['Total']] = dfBalance1[['Total']].astype(\"int\")\n",
    "dfBalance1.info() \n"
   ]
  },
  {
   "cell_type": "code",
   "execution_count": 13,
   "id": "ca307d86",
   "metadata": {},
   "outputs": [
    {
     "data": {
      "text/plain": [
       "array([0.03724345, 0.3581623 , 0.67908115, 1.        ])"
      ]
     },
     "execution_count": 13,
     "metadata": {},
     "output_type": "execute_result"
    }
   ],
   "source": [
    "cat=np.linspace(min(dfBalance1['Eolica']), max(dfBalance1['Eolica']), 4)\n",
    "cat"
   ]
  },
  {
   "cell_type": "code",
   "execution_count": 14,
   "id": "f86bef31",
   "metadata": {},
   "outputs": [
    {
     "data": {
      "text/html": [
       "<div>\n",
       "<style scoped>\n",
       "    .dataframe tbody tr th:only-of-type {\n",
       "        vertical-align: middle;\n",
       "    }\n",
       "\n",
       "    .dataframe tbody tr th {\n",
       "        vertical-align: top;\n",
       "    }\n",
       "\n",
       "    .dataframe thead th {\n",
       "        text-align: right;\n",
       "    }\n",
       "</style>\n",
       "<table border=\"1\" class=\"dataframe\">\n",
       "  <thead>\n",
       "    <tr style=\"text-align: right;\">\n",
       "      <th></th>\n",
       "      <th>Eolica</th>\n",
       "      <th>Eolica-bins</th>\n",
       "    </tr>\n",
       "  </thead>\n",
       "  <tbody>\n",
       "    <tr>\n",
       "      <th>0</th>\n",
       "      <td>0.037243</td>\n",
       "      <td>bajo</td>\n",
       "    </tr>\n",
       "    <tr>\n",
       "      <th>1</th>\n",
       "      <td>0.043038</td>\n",
       "      <td>bajo</td>\n",
       "    </tr>\n",
       "    <tr>\n",
       "      <th>2</th>\n",
       "      <td>0.054865</td>\n",
       "      <td>bajo</td>\n",
       "    </tr>\n",
       "    <tr>\n",
       "      <th>3</th>\n",
       "      <td>0.050316</td>\n",
       "      <td>bajo</td>\n",
       "    </tr>\n",
       "    <tr>\n",
       "      <th>4</th>\n",
       "      <td>0.076294</td>\n",
       "      <td>bajo</td>\n",
       "    </tr>\n",
       "  </tbody>\n",
       "</table>\n",
       "</div>"
      ],
      "text/plain": [
       "     Eolica Eolica-bins\n",
       "0  0.037243        bajo\n",
       "1  0.043038        bajo\n",
       "2  0.054865        bajo\n",
       "3  0.050316        bajo\n",
       "4  0.076294        bajo"
      ]
     },
     "execution_count": 14,
     "metadata": {},
     "output_type": "execute_result"
    }
   ],
   "source": [
    "nombres = [\"bajo\", \"medio\", \"alto\"]\n",
    "dfBalance1[\"Eolica-bins\"] = pd.cut(dfBalance1['Eolica'], bins = cat, labels = nombres, include_lowest=True)\n",
    "dfBalance1[[\"Eolica\", \"Eolica-bins\"]].head(5)"
   ]
  },
  {
   "cell_type": "code",
   "execution_count": 15,
   "id": "33483144",
   "metadata": {},
   "outputs": [
    {
     "data": {
      "text/plain": [
       "bajo     10\n",
       "alto      1\n",
       "medio     0\n",
       "Name: Eolica-bins, dtype: int64"
      ]
     },
     "execution_count": 15,
     "metadata": {},
     "output_type": "execute_result"
    }
   ],
   "source": [
    "dfBalance1[\"Eolica-bins\"].value_counts()"
   ]
  },
  {
   "cell_type": "code",
   "execution_count": 16,
   "id": "91bf63ef",
   "metadata": {},
   "outputs": [
    {
     "data": {
      "text/html": [
       "<div>\n",
       "<style scoped>\n",
       "    .dataframe tbody tr th:only-of-type {\n",
       "        vertical-align: middle;\n",
       "    }\n",
       "\n",
       "    .dataframe tbody tr th {\n",
       "        vertical-align: top;\n",
       "    }\n",
       "\n",
       "    .dataframe thead th {\n",
       "        text-align: right;\n",
       "    }\n",
       "</style>\n",
       "<table border=\"1\" class=\"dataframe\">\n",
       "  <thead>\n",
       "    <tr style=\"text-align: right;\">\n",
       "      <th></th>\n",
       "      <th>Eolica</th>\n",
       "      <th>Año</th>\n",
       "    </tr>\n",
       "  </thead>\n",
       "  <tbody>\n",
       "    <tr>\n",
       "      <th>0</th>\n",
       "      <td>0.037243</td>\n",
       "      <td>2010</td>\n",
       "    </tr>\n",
       "    <tr>\n",
       "      <th>1</th>\n",
       "      <td>0.043038</td>\n",
       "      <td>2011</td>\n",
       "    </tr>\n",
       "    <tr>\n",
       "      <th>2</th>\n",
       "      <td>0.054865</td>\n",
       "      <td>2012</td>\n",
       "    </tr>\n",
       "    <tr>\n",
       "      <th>3</th>\n",
       "      <td>0.050316</td>\n",
       "      <td>2013</td>\n",
       "    </tr>\n",
       "    <tr>\n",
       "      <th>4</th>\n",
       "      <td>0.076294</td>\n",
       "      <td>2014</td>\n",
       "    </tr>\n",
       "    <tr>\n",
       "      <th>5</th>\n",
       "      <td>0.112092</td>\n",
       "      <td>2015</td>\n",
       "    </tr>\n",
       "    <tr>\n",
       "      <th>6</th>\n",
       "      <td>0.119130</td>\n",
       "      <td>2016</td>\n",
       "    </tr>\n",
       "    <tr>\n",
       "      <th>7</th>\n",
       "      <td>0.133708</td>\n",
       "      <td>2017</td>\n",
       "    </tr>\n",
       "    <tr>\n",
       "      <th>8</th>\n",
       "      <td>0.186788</td>\n",
       "      <td>2018</td>\n",
       "    </tr>\n",
       "    <tr>\n",
       "      <th>9</th>\n",
       "      <td>0.186526</td>\n",
       "      <td>2019</td>\n",
       "    </tr>\n",
       "  </tbody>\n",
       "</table>\n",
       "</div>"
      ],
      "text/plain": [
       "     Eolica   Año\n",
       "0  0.037243  2010\n",
       "1  0.043038  2011\n",
       "2  0.054865  2012\n",
       "3  0.050316  2013\n",
       "4  0.076294  2014\n",
       "5  0.112092  2015\n",
       "6  0.119130  2016\n",
       "7  0.133708  2017\n",
       "8  0.186788  2018\n",
       "9  0.186526  2019"
      ]
     },
     "execution_count": 16,
     "metadata": {},
     "output_type": "execute_result"
    }
   ],
   "source": [
    "dfBalance1[[\"Eolica\", \"Año\"]].head(10)"
   ]
  },
  {
   "cell_type": "code",
   "execution_count": 17,
   "id": "4886a81f",
   "metadata": {},
   "outputs": [],
   "source": [
    "%matplotlib inline\n",
    "import matplotlib.pyplot as plt"
   ]
  },
  {
   "cell_type": "code",
   "execution_count": 18,
   "id": "a729d600",
   "metadata": {},
   "outputs": [
    {
     "data": {
      "image/png": "[encoded data removed]",
      "text/plain": [
       "<Figure size 432x288 with 1 Axes>"
      ]
     },
     "metadata": {
      "needs_background": "light"
     },
     "output_type": "display_data"
    }
   ],
   "source": [
    "plt.hist(dfBalance1[\"Eolica-bins\"])\n",
    "plt.xlabel(\"Eolica\")\n",
    "plt.title(\"Distribucion de Energia por Año\")\n",
    "plt.show()"
   ]
  },
  {
   "cell_type": "code",
   "execution_count": 19,
   "id": "37c99a64",
   "metadata": {},
   "outputs": [
    {
     "data": {
      "text/html": [
       "<div>\n",
       "<style scoped>\n",
       "    .dataframe tbody tr th:only-of-type {\n",
       "        vertical-align: middle;\n",
       "    }\n",
       "\n",
       "    .dataframe tbody tr th {\n",
       "        vertical-align: top;\n",
       "    }\n",
       "\n",
       "    .dataframe thead th {\n",
       "        text-align: right;\n",
       "    }\n",
       "</style>\n",
       "<table border=\"1\" class=\"dataframe\">\n",
       "  <thead>\n",
       "    <tr style=\"text-align: right;\">\n",
       "      <th></th>\n",
       "      <th>Año</th>\n",
       "      <th>Hidro</th>\n",
       "      <th>Geotermica</th>\n",
       "      <th>Eolica</th>\n",
       "      <th>Biomasa</th>\n",
       "      <th>Solar</th>\n",
       "      <th>Termica</th>\n",
       "      <th>Total</th>\n",
       "      <th>Eolica-bins</th>\n",
       "    </tr>\n",
       "  </thead>\n",
       "  <tbody>\n",
       "    <tr>\n",
       "      <th>0</th>\n",
       "      <td>2010</td>\n",
       "      <td>26144.25</td>\n",
       "      <td>4233.89</td>\n",
       "      <td>0.037243</td>\n",
       "      <td>521.41</td>\n",
       "      <td>0.001954</td>\n",
       "      <td>0.124096</td>\n",
       "      <td>34499</td>\n",
       "      <td>bajo</td>\n",
       "    </tr>\n",
       "    <tr>\n",
       "      <th>1</th>\n",
       "      <td>2011</td>\n",
       "      <td>25684.64</td>\n",
       "      <td>4606.35</td>\n",
       "      <td>0.043038</td>\n",
       "      <td>500.37</td>\n",
       "      <td>0.003635</td>\n",
       "      <td>0.167096</td>\n",
       "      <td>35393</td>\n",
       "      <td>bajo</td>\n",
       "    </tr>\n",
       "    <tr>\n",
       "      <th>2</th>\n",
       "      <td>2012</td>\n",
       "      <td>26039.52</td>\n",
       "      <td>5049.18</td>\n",
       "      <td>0.054865</td>\n",
       "      <td>643.04</td>\n",
       "      <td>0.009812</td>\n",
       "      <td>0.160697</td>\n",
       "      <td>36627</td>\n",
       "      <td>bajo</td>\n",
       "    </tr>\n",
       "    <tr>\n",
       "      <th>3</th>\n",
       "      <td>2013</td>\n",
       "      <td>24663.76</td>\n",
       "      <td>5460.25</td>\n",
       "      <td>0.050316</td>\n",
       "      <td>659.94</td>\n",
       "      <td>0.018489</td>\n",
       "      <td>0.231480</td>\n",
       "      <td>36842</td>\n",
       "      <td>bajo</td>\n",
       "    </tr>\n",
       "    <tr>\n",
       "      <th>4</th>\n",
       "      <td>2014</td>\n",
       "      <td>24181.75</td>\n",
       "      <td>5537.29</td>\n",
       "      <td>0.076294</td>\n",
       "      <td>650.24</td>\n",
       "      <td>0.018657</td>\n",
       "      <td>0.201907</td>\n",
       "      <td>36778</td>\n",
       "      <td>bajo</td>\n",
       "    </tr>\n",
       "  </tbody>\n",
       "</table>\n",
       "</div>"
      ],
      "text/plain": [
       "    Año     Hidro  Geotermica    Eolica  Biomasa     Solar   Termica  Total  \\\n",
       "0  2010  26144.25     4233.89  0.037243   521.41  0.001954  0.124096  34499   \n",
       "1  2011  25684.64     4606.35  0.043038   500.37  0.003635  0.167096  35393   \n",
       "2  2012  26039.52     5049.18  0.054865   643.04  0.009812  0.160697  36627   \n",
       "3  2013  24663.76     5460.25  0.050316   659.94  0.018489  0.231480  36842   \n",
       "4  2014  24181.75     5537.29  0.076294   650.24  0.018657  0.201907  36778   \n",
       "\n",
       "  Eolica-bins  \n",
       "0        bajo  \n",
       "1        bajo  \n",
       "2        bajo  \n",
       "3        bajo  \n",
       "4        bajo  "
      ]
     },
     "execution_count": 19,
     "metadata": {},
     "output_type": "execute_result"
    }
   ],
   "source": [
    "dfBalance1.head(5) "
   ]
  },
  {
   "cell_type": "markdown",
   "id": "45a46538",
   "metadata": {},
   "source": [
    "<h2 Style=\"color:#DB7093\"> Visualizacion de Datos</h2>"
   ]
  },
  {
   "cell_type": "code",
   "execution_count": 20,
   "id": "9b5906cd",
   "metadata": {},
   "outputs": [
    {
     "data": {
      "text/html": [
       "<div>\n",
       "<style scoped>\n",
       "    .dataframe tbody tr th:only-of-type {\n",
       "        vertical-align: middle;\n",
       "    }\n",
       "\n",
       "    .dataframe tbody tr th {\n",
       "        vertical-align: top;\n",
       "    }\n",
       "\n",
       "    .dataframe thead th {\n",
       "        text-align: right;\n",
       "    }\n",
       "</style>\n",
       "<table border=\"1\" class=\"dataframe\">\n",
       "  <thead>\n",
       "    <tr style=\"text-align: right;\">\n",
       "      <th></th>\n",
       "      <th>Año</th>\n",
       "    </tr>\n",
       "    <tr>\n",
       "      <th>Eolica-bins</th>\n",
       "      <th></th>\n",
       "    </tr>\n",
       "  </thead>\n",
       "  <tbody>\n",
       "    <tr>\n",
       "      <th>bajo</th>\n",
       "      <td>10</td>\n",
       "    </tr>\n",
       "    <tr>\n",
       "      <th>medio</th>\n",
       "      <td>0</td>\n",
       "    </tr>\n",
       "    <tr>\n",
       "      <th>alto</th>\n",
       "      <td>1</td>\n",
       "    </tr>\n",
       "  </tbody>\n",
       "</table>\n",
       "</div>"
      ],
      "text/plain": [
       "             Año\n",
       "Eolica-bins     \n",
       "bajo          10\n",
       "medio          0\n",
       "alto           1"
      ]
     },
     "execution_count": 20,
     "metadata": {},
     "output_type": "execute_result"
    }
   ],
   "source": [
    "gf1 = dfBalance1.groupby([\"Eolica-bins\"]).count()\n",
    "gf1 =  gf1.iloc[:,:1]\n",
    "gf1"
   ]
  },
  {
   "cell_type": "code",
   "execution_count": 21,
   "id": "8c09b5fb",
   "metadata": {},
   "outputs": [
    {
     "data": {
      "image/png": "[encoded data removed]",
      "text/plain": [
       "<Figure size 432x288 with 1 Axes>"
      ]
     },
     "metadata": {
      "needs_background": "light"
     },
     "output_type": "display_data"
    },
    {
     "data": {
      "text/plain": [
       "<Figure size 1080x2160 with 0 Axes>"
      ]
     },
     "metadata": {},
     "output_type": "display_data"
    }
   ],
   "source": [
    "eje_x = (\"bajo\", \"medio\", \"alto\")\n",
    "eje_y = gf1['Año'].tolist()\n",
    "\n",
    "\n",
    "plt.bar(eje_x, eje_y)\n",
    "\n",
    "\n",
    "plt.ylabel('Cantidad de Años')\n",
    "\n",
    "plt.xlabel('Total de Energia')\n",
    "\n",
    "plt.title(\"Energia agrupada por el total\")\n",
    "\n",
    "\n",
    "plt.figure(figsize=(15, 30)) \n",
    "plt.show()"
   ]
  },
  {
   "cell_type": "code",
   "execution_count": 22,
   "id": "433d8b38",
   "metadata": {},
   "outputs": [
    {
     "data": {
      "text/html": [
       "<div>\n",
       "<style scoped>\n",
       "    .dataframe tbody tr th:only-of-type {\n",
       "        vertical-align: middle;\n",
       "    }\n",
       "\n",
       "    .dataframe tbody tr th {\n",
       "        vertical-align: top;\n",
       "    }\n",
       "\n",
       "    .dataframe thead th {\n",
       "        text-align: right;\n",
       "    }\n",
       "</style>\n",
       "<table border=\"1\" class=\"dataframe\">\n",
       "  <thead>\n",
       "    <tr style=\"text-align: right;\">\n",
       "      <th></th>\n",
       "      <th>Año</th>\n",
       "      <th>Hidro</th>\n",
       "      <th>Geotermica</th>\n",
       "      <th>Eolica</th>\n",
       "      <th>Biomasa</th>\n",
       "      <th>Solar</th>\n",
       "      <th>Termica</th>\n",
       "      <th>Total</th>\n",
       "      <th>Eolica-bins</th>\n",
       "    </tr>\n",
       "  </thead>\n",
       "  <tbody>\n",
       "    <tr>\n",
       "      <th>0</th>\n",
       "      <td>2010</td>\n",
       "      <td>26144.25</td>\n",
       "      <td>4233.89</td>\n",
       "      <td>0.037243</td>\n",
       "      <td>521.41</td>\n",
       "      <td>0.001954</td>\n",
       "      <td>0.124096</td>\n",
       "      <td>34499</td>\n",
       "      <td>bajo</td>\n",
       "    </tr>\n",
       "    <tr>\n",
       "      <th>1</th>\n",
       "      <td>2011</td>\n",
       "      <td>25684.64</td>\n",
       "      <td>4606.35</td>\n",
       "      <td>0.043038</td>\n",
       "      <td>500.37</td>\n",
       "      <td>0.003635</td>\n",
       "      <td>0.167096</td>\n",
       "      <td>35393</td>\n",
       "      <td>bajo</td>\n",
       "    </tr>\n",
       "    <tr>\n",
       "      <th>2</th>\n",
       "      <td>2012</td>\n",
       "      <td>26039.52</td>\n",
       "      <td>5049.18</td>\n",
       "      <td>0.054865</td>\n",
       "      <td>643.04</td>\n",
       "      <td>0.009812</td>\n",
       "      <td>0.160697</td>\n",
       "      <td>36627</td>\n",
       "      <td>bajo</td>\n",
       "    </tr>\n",
       "    <tr>\n",
       "      <th>3</th>\n",
       "      <td>2013</td>\n",
       "      <td>24663.76</td>\n",
       "      <td>5460.25</td>\n",
       "      <td>0.050316</td>\n",
       "      <td>659.94</td>\n",
       "      <td>0.018489</td>\n",
       "      <td>0.231480</td>\n",
       "      <td>36842</td>\n",
       "      <td>bajo</td>\n",
       "    </tr>\n",
       "    <tr>\n",
       "      <th>4</th>\n",
       "      <td>2014</td>\n",
       "      <td>24181.75</td>\n",
       "      <td>5537.29</td>\n",
       "      <td>0.076294</td>\n",
       "      <td>650.24</td>\n",
       "      <td>0.018657</td>\n",
       "      <td>0.201907</td>\n",
       "      <td>36778</td>\n",
       "      <td>bajo</td>\n",
       "    </tr>\n",
       "  </tbody>\n",
       "</table>\n",
       "</div>"
      ],
      "text/plain": [
       "    Año     Hidro  Geotermica    Eolica  Biomasa     Solar   Termica  Total  \\\n",
       "0  2010  26144.25     4233.89  0.037243   521.41  0.001954  0.124096  34499   \n",
       "1  2011  25684.64     4606.35  0.043038   500.37  0.003635  0.167096  35393   \n",
       "2  2012  26039.52     5049.18  0.054865   643.04  0.009812  0.160697  36627   \n",
       "3  2013  24663.76     5460.25  0.050316   659.94  0.018489  0.231480  36842   \n",
       "4  2014  24181.75     5537.29  0.076294   650.24  0.018657  0.201907  36778   \n",
       "\n",
       "  Eolica-bins  \n",
       "0        bajo  \n",
       "1        bajo  \n",
       "2        bajo  \n",
       "3        bajo  \n",
       "4        bajo  "
      ]
     },
     "execution_count": 22,
     "metadata": {},
     "output_type": "execute_result"
    }
   ],
   "source": [
    "dfBalance1.head(5) "
   ]
  },
  {
   "cell_type": "code",
   "execution_count": 30,
   "id": "e2f6646a",
   "metadata": {},
   "outputs": [
    {
     "data": {
      "image/png": "[encoded data removed]",
      "text/plain": [
       "<Figure size 432x288 with 1 Axes>"
      ]
     },
     "metadata": {
      "needs_background": "light"
     },
     "output_type": "display_data"
    }
   ],
   "source": [
    "fig, ax = plt.subplots()\n",
    "ax.scatter (dfBalance1[\"Año\"], dfBalance1[\"Eolica\"], alpha = 0.6)\n",
    "\n",
    "ax.set_xlabel(\"Año\", fontsize=15)\n",
    "ax.set_ylabel(\"Eolica\", fontsize=15)\n",
    "ax.set_title(\"Energia Eolica a traves del tiempo\")\n",
    "\n",
    "ax.grid(True)\n",
    "fig.tight_layout()\n",
    "\n",
    "plt.show()"
   ]
  },
  {
   "cell_type": "code",
   "execution_count": 50,
   "id": "cfeaae57",
   "metadata": {},
   "outputs": [
    {
     "data": {
      "image/png": "[encoded data removed]",
      "text/plain": [
       "<Figure size 432x288 with 1 Axes>"
      ]
     },
     "metadata": {
      "needs_background": "light"
     },
     "output_type": "display_data"
    }
   ],
   "source": [
    "import matplotlib.cbook as cbook\n",
    "\n",
    " \n",
    "\n",
    "\n",
    "fig, ax = plt.subplots()\n",
    "ax.scatter(dfBalance1['Eolica'], dfBalance1['Año'],s=dfBalance1['Total'], alpha=0.4)\n",
    "\n",
    " \n",
    "\n",
    "ax.set_xlabel(\"Consumo de Energia por Año\", fontsize=12)\n",
    "\n",
    "ax.set_title('Volume and percent change')\n",
    "\n",
    " \n",
    "\n",
    "ax.grid(True)\n",
    "fig.tight_layout()\n",
    "\n",
    " \n",
    "\n",
    "plt.show()"
   ]
  },
  {
   "cell_type": "code",
   "execution_count": null,
   "id": "73961ed0",
   "metadata": {},
   "outputs": [],
   "source": []
  }
 ],
 "metadata": {
  "kernelspec": {
   "display_name": "Python 3 (ipykernel)",
   "language": "python",
   "name": "python3"
  },
  "language_info": {
   "codemirror_mode": {
    "name": "ipython",
    "version": 3
   },
   "file_extension": ".py",
   "mimetype": "text/x-python",
   "name": "python",
   "nbconvert_exporter": "python",
   "pygments_lexer": "ipython3",
   "version": "3.9.12"
  }
 },
 "nbformat": 4,
 "nbformat_minor": 5
}
